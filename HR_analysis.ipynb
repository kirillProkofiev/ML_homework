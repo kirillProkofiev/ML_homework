{
 "cells": [
  {
   "cell_type": "code",
   "execution_count": 3,
   "metadata": {
    "ExecuteTime": {
     "end_time": "2020-09-20T20:16:56.321148Z",
     "start_time": "2020-09-20T20:16:54.507150Z"
    },
    "colab": {},
    "colab_type": "code",
    "id": "JXelsOswlFA4"
   },
   "outputs": [
    {
     "name": "stderr",
     "output_type": "stream",
     "text": [
      "C:\\Users\\kirill\\anaconda3\\lib\\importlib\\_bootstrap.py:219: RuntimeWarning: numpy.ufunc size changed, may indicate binary incompatibility. Expected 192 from C header, got 216 from PyObject\n",
      "  return f(*args, **kwds)\n",
      "C:\\Users\\kirill\\anaconda3\\lib\\importlib\\_bootstrap.py:219: RuntimeWarning: numpy.ufunc size changed, may indicate binary incompatibility. Expected 192 from C header, got 216 from PyObject\n",
      "  return f(*args, **kwds)\n"
     ]
    }
   ],
   "source": [
    "import numpy as np             \n",
    "import matplotlib.pyplot as plt \n",
    "%matplotlib inline \n",
    "import pandas as pd             \n",
    "import seaborn as sns           \n",
    "import sklearn as skl"
   ]
  },
  {
   "cell_type": "markdown",
   "metadata": {},
   "source": [
    "# HR Aalysis\n",
    "## Problem statement\n",
    "Это набор данных HR. Ежегодно в компании продвигается по карьерной лестнице около 5% сотрудников. Итак, нужно построить модель, решающую проблему бинарной классификации и определить сотрудника повысят в должности или нет? В качестве первого задания мы рассмотрим алгоритм К ближайших соседей."
   ]
  },
  {
   "cell_type": "markdown",
   "metadata": {},
   "source": [
    "## Download data and data description"
   ]
  },
  {
   "cell_type": "markdown",
   "metadata": {},
   "source": [
    "Загрузим данные в Pandas. Данные взяты с [Kaggle](https://www.kaggle.com/shivan118/hranalysis?select=train.csv)"
   ]
  },
  {
   "cell_type": "code",
   "execution_count": 4,
   "metadata": {
    "ExecuteTime": {
     "end_time": "2020-09-20T20:16:56.597144Z",
     "start_time": "2020-09-20T20:16:56.325155Z"
    }
   },
   "outputs": [
    {
     "name": "stdout",
     "output_type": "stream",
     "text": [
      "train data: \n",
      "    employee_id         department     region         education gender  \\\n",
      "0        65438  Sales & Marketing   region_7  Master's & above      f   \n",
      "1        65141         Operations  region_22        Bachelor's      m   \n",
      "2         7513  Sales & Marketing  region_19        Bachelor's      m   \n",
      "3         2542  Sales & Marketing  region_23        Bachelor's      m   \n",
      "4        48945         Technology  region_26        Bachelor's      m   \n",
      "\n",
      "  recruitment_channel  no_of_trainings  age  previous_year_rating  \\\n",
      "0            sourcing                1   35                   5.0   \n",
      "1               other                1   30                   5.0   \n",
      "2            sourcing                1   34                   3.0   \n",
      "3               other                2   39                   1.0   \n",
      "4               other                1   45                   3.0   \n",
      "\n",
      "   length_of_service  KPIs_met >80%  awards_won?  avg_training_score  \\\n",
      "0                  8              1            0                  49   \n",
      "1                  4              0            0                  60   \n",
      "2                  7              0            0                  50   \n",
      "3                 10              0            0                  50   \n",
      "4                  2              0            0                  73   \n",
      "\n",
      "   is_promoted  \n",
      "0            0  \n",
      "1            0  \n",
      "2            0  \n",
      "3            0  \n",
      "4            0  \n",
      "\n",
      " test data: \n",
      "    employee_id         department     region   education gender  \\\n",
      "0         8724         Technology  region_26  Bachelor's      m   \n",
      "1        74430                 HR   region_4  Bachelor's      f   \n",
      "2        72255  Sales & Marketing  region_13  Bachelor's      m   \n",
      "3        38562        Procurement   region_2  Bachelor's      f   \n",
      "4        64486            Finance  region_29  Bachelor's      m   \n",
      "\n",
      "  recruitment_channel  no_of_trainings  age  previous_year_rating  \\\n",
      "0            sourcing                1   24                   NaN   \n",
      "1               other                1   31                   3.0   \n",
      "2               other                1   31                   1.0   \n",
      "3               other                3   31                   2.0   \n",
      "4            sourcing                1   30                   4.0   \n",
      "\n",
      "   length_of_service  KPIs_met >80%  awards_won?  avg_training_score  \n",
      "0                  1              1            0                  77  \n",
      "1                  5              0            0                  51  \n",
      "2                  4              0            0                  47  \n",
      "3                  9              0            0                  65  \n",
      "4                  7              0            0                  61  \n",
      "test shape: (23490, 13), train shape: (54808, 14)\n"
     ]
    }
   ],
   "source": [
    "train_raw, test_raw = pd.read_csv('train.csv'), pd.read_csv('test.csv')\n",
    "print('train data: \\n', train_raw.head())\n",
    "print('\\n test data: \\n', test_raw.head())\n",
    "print(f'test shape: {test_raw.shape}, train shape: {train_raw.shape}')\n"
   ]
  },
  {
   "cell_type": "markdown",
   "metadata": {},
   "source": [
    "Мы видим, что данные для тренировки содержат 54808 объектов и 14 признаков, причем как номинальных, так и числовых. Тестовые же данные содержат 23490 записей и как уже видно по столбцу `previous_year_rating` содержат пропущенные значения, что не очень хорошо для тестового датасета.\n",
    "\n",
    "Всего представленны следующие признаки, к сожалению в источнике данных не указано конкретное описание каждого признака, поэтому мы должны определить это исходя из логических рассуждений:\n",
    "* employee_id - id сотрудника\n",
    "* department - отдел\n",
    "* region - регион, где работает сотрудник\n",
    "* education - образование\n",
    "* gender - пол\n",
    "* recruitment_channel - скорее всего источник найма\n",
    "* nooftrainings - количество тренингов/обучений, которые прошел сотрудник\n",
    "* age - возраст\n",
    "* previousyearrating - какой-то показатель рейтинга сотрудника за прошлый год\n",
    "* lengthofservice - стаж работника\n",
    "* KPIs_met >80% - бинарный категориальный признак показателя эффективности*. Если он выше 80% - 1, иначе - 0\n",
    "* awards_won? - наличие наград\n",
    "* avgtrainingscore - средний балл, полученный на тренингах и различного рода обучений\n",
    "* is_promoted - сотрудник был повышен или нет, целевой признак для предсказания\n",
    "\n",
    "\\*KPI (Key Performance Indicator) — это показатель достижения успеха в определенной деятельности или в достижении определенных целей. Можно сказать, что KPI — это количественно измеримый индикатор фактически достигнутых результатов."
   ]
  },
  {
   "cell_type": "markdown",
   "metadata": {},
   "source": [
    "Прежде всего давайте переименнуем признаки для удобства:\n"
   ]
  },
  {
   "cell_type": "code",
   "execution_count": 5,
   "metadata": {
    "ExecuteTime": {
     "end_time": "2020-09-20T20:16:56.607151Z",
     "start_time": "2020-09-20T20:16:56.601145Z"
    }
   },
   "outputs": [],
   "source": [
    "train_raw.columns = ['id', 'department', 'region', 'education', 'gender', \n",
    "                 'recr_source', 'training_num', 'age', 'prev_year_rating', \n",
    "                 'service', 'kpi_80', 'awards', 'avg_training_score', 'promotion']\n",
    "\n",
    "test_raw.columns = ['id', 'department', 'region', 'education', 'gender', \n",
    "                 'recr_source', 'training_num', 'age', 'prev_year_rating', \n",
    "                 'service', 'kpi_80', 'awards', 'avg_training_score']"
   ]
  },
  {
   "cell_type": "markdown",
   "metadata": {},
   "source": [
    "## Data analysis and visualization\n",
    "Сначала посмотрим на тип наших признаков:"
   ]
  },
  {
   "cell_type": "code",
   "execution_count": 6,
   "metadata": {
    "ExecuteTime": {
     "end_time": "2020-09-20T20:16:56.631150Z",
     "start_time": "2020-09-20T20:16:56.611154Z"
    }
   },
   "outputs": [
    {
     "name": "stdout",
     "output_type": "stream",
     "text": [
      "id : int64\n",
      "department : object\n",
      "region : object\n",
      "education : object\n",
      "gender : object\n",
      "recr_source : object\n",
      "training_num : int64\n",
      "age : int64\n",
      "prev_year_rating : float64\n",
      "service : int64\n",
      "kpi_80 : int64\n",
      "awards : int64\n",
      "avg_training_score : int64\n",
      "promotion : int64\n"
     ]
    }
   ],
   "source": [
    "for i in train_raw.columns:\n",
    "    print(f'{i} : {train_raw[i].dtype}')"
   ]
  },
  {
   "cell_type": "markdown",
   "metadata": {},
   "source": [
    "Видно, что наши признаки включают в себя как номинальные, например `department` или `region `, количественные дискретные (`age`, `service`), непрервный количественный (`prev_year_rating `), бинарные категориальные, такие как `kpi_80`, `awards`."
   ]
  },
  {
   "cell_type": "markdown",
   "metadata": {
    "ExecuteTime": {
     "end_time": "2020-09-19T11:06:08.985232Z",
     "start_time": "2020-09-19T11:06:08.977232Z"
    }
   },
   "source": [
    "### Check duplicates\n",
    "Для начала посмотрим, что в нашем датасете нет дубликатов с одинаковыми id, если они есть то оставим только один из них. Затем мы можем удалить колонку id сотрудника, так как она не несет никакой смысловой информации.\n"
   ]
  },
  {
   "cell_type": "code",
   "execution_count": 7,
   "metadata": {
    "ExecuteTime": {
     "end_time": "2020-09-20T20:16:56.680152Z",
     "start_time": "2020-09-20T20:16:56.634141Z"
    }
   },
   "outputs": [
    {
     "name": "stdout",
     "output_type": "stream",
     "text": [
      "0\n",
      "0\n"
     ]
    }
   ],
   "source": [
    "print(sum(train_raw.duplicated(subset='id')))\n",
    "print(sum(test_raw.duplicated(subset='id'))) "
   ]
  },
  {
   "cell_type": "markdown",
   "metadata": {},
   "source": [
    "Не мало важно проверить, нет ли совпадений в тестовом и трейновом датасетах в id людей. Иначе это может привести к не точным и не объективным результатам оценки модели. Воспользуемся объединением множеств с помощью структуры данных set() на основе хеш-таблицы для быстрой работы."
   ]
  },
  {
   "cell_type": "code",
   "execution_count": 8,
   "metadata": {
    "ExecuteTime": {
     "end_time": "2020-09-20T20:16:56.727151Z",
     "start_time": "2020-09-20T20:16:56.684161Z"
    }
   },
   "outputs": [
    {
     "data": {
      "text/plain": [
       "set()"
      ]
     },
     "execution_count": 8,
     "metadata": {},
     "output_type": "execute_result"
    }
   ],
   "source": [
    "set(train_raw.id.values).intersection(set(test_raw.id.values))"
   ]
  },
  {
   "cell_type": "code",
   "execution_count": 9,
   "metadata": {
    "ExecuteTime": {
     "end_time": "2020-09-20T20:16:56.765147Z",
     "start_time": "2020-09-20T20:16:56.733149Z"
    }
   },
   "outputs": [],
   "source": [
    "# Отлично, теперь можно избавиться от признака идентификатора личности.\n",
    "train_raw = train_raw.drop(columns='id')\n",
    "test_raw = test_raw.drop(columns='id')"
   ]
  },
  {
   "cell_type": "markdown",
   "metadata": {},
   "source": [
    "## Feature visualization"
   ]
  },
  {
   "cell_type": "markdown",
   "metadata": {},
   "source": [
    "Посмотрим на распределение значений для каждого признака. Будем делать это только для трейнового датасета в предположении, что оба набора данных получены из одной генеральной совокупности. Также методом `describe` получим числовые характеристики для каждого признака."
   ]
  },
  {
   "cell_type": "code",
   "execution_count": 10,
   "metadata": {
    "ExecuteTime": {
     "end_time": "2020-09-20T20:16:59.365147Z",
     "start_time": "2020-09-20T20:16:56.771145Z"
    }
   },
   "outputs": [
    {
     "data": {
      "image/png": "[encoded data removed]",
      "text/plain": [
       "<Figure size 1440x1440 with 9 Axes>"
      ]
     },
     "metadata": {},
     "output_type": "display_data"
    }
   ],
   "source": [
    "sns.set_style(\"white\")\n",
    "axes = train_raw.hist(edgecolor='black', color='lightgreen', linewidth=1.2, figsize=(20, 20), \n",
    "                      grid=False, backend='matplotlib', bins=30);"
   ]
  },
  {
   "cell_type": "code",
   "execution_count": 11,
   "metadata": {
    "ExecuteTime": {
     "end_time": "2020-09-20T20:16:59.439149Z",
     "start_time": "2020-09-20T20:16:59.369147Z"
    }
   },
   "outputs": [
    {
     "data": {
      "text/html": [
       "<div>\n",
       "<style scoped>\n",
       "    .dataframe tbody tr th:only-of-type {\n",
       "        vertical-align: middle;\n",
       "    }\n",
       "\n",
       "    .dataframe tbody tr th {\n",
       "        vertical-align: top;\n",
       "    }\n",
       "\n",
       "    .dataframe thead th {\n",
       "        text-align: right;\n",
       "    }\n",
       "</style>\n",
       "<table border=\"1\" class=\"dataframe\">\n",
       "  <thead>\n",
       "    <tr style=\"text-align: right;\">\n",
       "      <th></th>\n",
       "      <th>training_num</th>\n",
       "      <th>age</th>\n",
       "      <th>prev_year_rating</th>\n",
       "      <th>service</th>\n",
       "      <th>kpi_80</th>\n",
       "      <th>awards</th>\n",
       "      <th>avg_training_score</th>\n",
       "      <th>promotion</th>\n",
       "    </tr>\n",
       "  </thead>\n",
       "  <tbody>\n",
       "    <tr>\n",
       "      <th>count</th>\n",
       "      <td>54808.000000</td>\n",
       "      <td>54808.000000</td>\n",
       "      <td>50684.000000</td>\n",
       "      <td>54808.000000</td>\n",
       "      <td>54808.000000</td>\n",
       "      <td>54808.000000</td>\n",
       "      <td>54808.000000</td>\n",
       "      <td>54808.000000</td>\n",
       "    </tr>\n",
       "    <tr>\n",
       "      <th>mean</th>\n",
       "      <td>1.253011</td>\n",
       "      <td>34.803915</td>\n",
       "      <td>3.329256</td>\n",
       "      <td>5.865512</td>\n",
       "      <td>0.351974</td>\n",
       "      <td>0.023172</td>\n",
       "      <td>63.386750</td>\n",
       "      <td>0.085170</td>\n",
       "    </tr>\n",
       "    <tr>\n",
       "      <th>std</th>\n",
       "      <td>0.609264</td>\n",
       "      <td>7.660169</td>\n",
       "      <td>1.259993</td>\n",
       "      <td>4.265094</td>\n",
       "      <td>0.477590</td>\n",
       "      <td>0.150450</td>\n",
       "      <td>13.371559</td>\n",
       "      <td>0.279137</td>\n",
       "    </tr>\n",
       "    <tr>\n",
       "      <th>min</th>\n",
       "      <td>1.000000</td>\n",
       "      <td>20.000000</td>\n",
       "      <td>1.000000</td>\n",
       "      <td>1.000000</td>\n",
       "      <td>0.000000</td>\n",
       "      <td>0.000000</td>\n",
       "      <td>39.000000</td>\n",
       "      <td>0.000000</td>\n",
       "    </tr>\n",
       "    <tr>\n",
       "      <th>25%</th>\n",
       "      <td>1.000000</td>\n",
       "      <td>29.000000</td>\n",
       "      <td>3.000000</td>\n",
       "      <td>3.000000</td>\n",
       "      <td>0.000000</td>\n",
       "      <td>0.000000</td>\n",
       "      <td>51.000000</td>\n",
       "      <td>0.000000</td>\n",
       "    </tr>\n",
       "    <tr>\n",
       "      <th>50%</th>\n",
       "      <td>1.000000</td>\n",
       "      <td>33.000000</td>\n",
       "      <td>3.000000</td>\n",
       "      <td>5.000000</td>\n",
       "      <td>0.000000</td>\n",
       "      <td>0.000000</td>\n",
       "      <td>60.000000</td>\n",
       "      <td>0.000000</td>\n",
       "    </tr>\n",
       "    <tr>\n",
       "      <th>75%</th>\n",
       "      <td>1.000000</td>\n",
       "      <td>39.000000</td>\n",
       "      <td>4.000000</td>\n",
       "      <td>7.000000</td>\n",
       "      <td>1.000000</td>\n",
       "      <td>0.000000</td>\n",
       "      <td>76.000000</td>\n",
       "      <td>0.000000</td>\n",
       "    </tr>\n",
       "    <tr>\n",
       "      <th>max</th>\n",
       "      <td>10.000000</td>\n",
       "      <td>60.000000</td>\n",
       "      <td>5.000000</td>\n",
       "      <td>37.000000</td>\n",
       "      <td>1.000000</td>\n",
       "      <td>1.000000</td>\n",
       "      <td>99.000000</td>\n",
       "      <td>1.000000</td>\n",
       "    </tr>\n",
       "  </tbody>\n",
       "</table>\n",
       "</div>"
      ],
      "text/plain": [
       "       training_num           age  prev_year_rating       service  \\\n",
       "count  54808.000000  54808.000000      50684.000000  54808.000000   \n",
       "mean       1.253011     34.803915          3.329256      5.865512   \n",
       "std        0.609264      7.660169          1.259993      4.265094   \n",
       "min        1.000000     20.000000          1.000000      1.000000   \n",
       "25%        1.000000     29.000000          3.000000      3.000000   \n",
       "50%        1.000000     33.000000          3.000000      5.000000   \n",
       "75%        1.000000     39.000000          4.000000      7.000000   \n",
       "max       10.000000     60.000000          5.000000     37.000000   \n",
       "\n",
       "             kpi_80        awards  avg_training_score     promotion  \n",
       "count  54808.000000  54808.000000        54808.000000  54808.000000  \n",
       "mean       0.351974      0.023172           63.386750      0.085170  \n",
       "std        0.477590      0.150450           13.371559      0.279137  \n",
       "min        0.000000      0.000000           39.000000      0.000000  \n",
       "25%        0.000000      0.000000           51.000000      0.000000  \n",
       "50%        0.000000      0.000000           60.000000      0.000000  \n",
       "75%        1.000000      0.000000           76.000000      0.000000  \n",
       "max        1.000000      1.000000           99.000000      1.000000  "
      ]
     },
     "execution_count": 11,
     "metadata": {},
     "output_type": "execute_result"
    }
   ],
   "source": [
    "train_raw.describe()"
   ]
  },
  {
   "cell_type": "markdown",
   "metadata": {},
   "source": [
    "___\n",
    "Из данных графиков мы можем сделать следующие выводы:\n",
    "Возраст людей зрительно распределен более или менее нормально, хоть и с некоторым скосом мат ожидания влево. Распределение средних оценок по тренингам имеет несколько выраженных пиков (~ 50, 60, 70 и 85), мат ожидание же составляет 63.4. Видим, что все номинальные признаки довольно не сбалансированы и одна подкатегория доминирует над другими. Распределение стажа сотрудников имеет сильный скос влево и мат ожидание составляет примерно 5.8 лет. В основном большинство работников получают оценку \"3\" по рейтингу за предыдущий год. Каких-то выбросов в данных не замечено. Единственное на что можно обратить внимание это количество пройденных обучений. Все сотрудники прошли как минимум 1 тренинг за год, большинство на этом остановилось, но есть некоторые личности, которые смогли пройти 8,9 и даже 10 тренингов. Внизу виден график Violinplot, который получился \"дискретным\". Можно видеть, что число обучений больше 4х довольно сильно отклоняется от среднего. Но я думаю, что не стоит это считать ошибочными данными, ведь действительно кто-то мог пройти столько обучений за год. Поэтому мы не будем считать это выбросом.\n",
    "___"
   ]
  },
  {
   "cell_type": "code",
   "execution_count": 12,
   "metadata": {
    "ExecuteTime": {
     "end_time": "2020-09-20T20:17:00.089497Z",
     "start_time": "2020-09-20T20:16:59.442150Z"
    }
   },
   "outputs": [
    {
     "data": {
      "image/png": "[encoded data removed]",
      "text/plain": [
       "<Figure size 432x288 with 1 Axes>"
      ]
     },
     "metadata": {},
     "output_type": "display_data"
    }
   ],
   "source": [
    "sns.violinplot(train_raw['training_num'])\n",
    "sns.despine();"
   ]
  },
  {
   "cell_type": "markdown",
   "metadata": {},
   "source": [
    "Видно, что целевой признак `promotion` сильно несбалансирован по классам. Посмотрим на процентное соотношение"
   ]
  },
  {
   "cell_type": "code",
   "execution_count": 13,
   "metadata": {
    "ExecuteTime": {
     "end_time": "2020-09-20T20:17:00.104501Z",
     "start_time": "2020-09-20T20:17:00.091499Z"
    }
   },
   "outputs": [
    {
     "name": "stdout",
     "output_type": "stream",
     "text": [
      "не повысили: 91.48%\n",
      "повысили: 8.52%\n"
     ]
    }
   ],
   "source": [
    "count = train_raw['promotion'].value_counts()\n",
    "print('не повысили: {}%'.format(round(count[0]*100/(count[0]+count[1]), 2)))\n",
    "print('повысили: {}%'.format(round(count[1]*100/(count[0]+count[1]), 2)))"
   ]
  },
  {
   "cell_type": "markdown",
   "metadata": {},
   "source": [
    "___\n",
    "Далее посмотрим на корреляцию данных. Просто смотреть на числа не очень удобно. Напишем фукцию в основе которой лежит heatmap из библиотеки seaborn."
   ]
  },
  {
   "cell_type": "code",
   "execution_count": 14,
   "metadata": {
    "ExecuteTime": {
     "end_time": "2020-09-20T20:17:00.119502Z",
     "start_time": "2020-09-20T20:17:00.107504Z"
    }
   },
   "outputs": [],
   "source": [
    "def correlation_map(df, method='pearson'):\n",
    "    # create a correlation matrix\n",
    "    corr = df.corr(method=method)\n",
    "    \n",
    "    # create a triangular mask to avoid repeated values and make\n",
    "    # the plot easier to read\n",
    "    corr = corr.iloc[1:, :-1]\n",
    "    mask = np.triu(np.ones_like(corr), k=1)\n",
    "    \n",
    "    # plot a heatmap of the values\n",
    "    plt.figure(figsize=(20,14))\n",
    "    ax = sns.heatmap(corr, vmin=-1, vmax=1, cbar=False,\n",
    "                     cmap='RdBu', mask=mask, annot=True)\n",
    "    \n",
    "    # format the text in the plot to make it easier to read\n",
    "    for text in ax.texts:\n",
    "        t = float(text.get_text())\n",
    "        if -0.05 < t < 0.01:\n",
    "            text.set_text('')\n",
    "        else:\n",
    "            text.set_text(round(t, 2))\n",
    "        text.set_fontsize('x-large')\n",
    "    plt.xticks(rotation=90, size='x-large')\n",
    "    plt.yticks(rotation=0, size='x-large')\n",
    "\n",
    "    plt.show()"
   ]
  },
  {
   "cell_type": "code",
   "execution_count": 15,
   "metadata": {
    "ExecuteTime": {
     "end_time": "2020-09-20T20:17:00.684495Z",
     "start_time": "2020-09-20T20:17:00.123499Z"
    }
   },
   "outputs": [
    {
     "data": {
      "image/png": "[encoded data removed]",
      "text/plain": [
       "<Figure size 1440x1008 with 1 Axes>"
      ]
     },
     "metadata": {},
     "output_type": "display_data"
    }
   ],
   "source": [
    "# распределения на построенных графиках выглядят не очень нормальным, поэтому воспользуемся параметрическим методом вычисления\n",
    "# коэффициента корреляции Спирмена.\n",
    "correlation_map(train_raw, method='spearman')"
   ]
  },
  {
   "cell_type": "markdown",
   "metadata": {},
   "source": [
    "Логично, что чем выше выше возраст сотрудника, тем больше его стаж, хоть и не всегда это так. Также имеется небольшая корреляция между рейтингом сотрудника за прошлый год и коэффициентом эффективности, хотя и не очень значительная (под значительной будем понимать коэффициент корреляции больше 0.7).\n",
    "\n",
    "Также видим, что признаки не сильно коррелируют с целевым значением `promotion` (далее просто таргет). \n",
    "\n",
    "Таким образом, у нас отсутствует явная линейная связь между признаками, а также отстутсвует сильная связь между признаками и таргетом. Поэтому мы можем оставить все как есть в этом плане."
   ]
  },
  {
   "cell_type": "markdown",
   "metadata": {},
   "source": [
    "___\n",
    "Интересено посмотреть на некоторые зависимости поближе. Например, мы видим, что возраст и стаж никак не коррелируют с повышением. Посмотрим на графики."
   ]
  },
  {
   "cell_type": "code",
   "execution_count": 16,
   "metadata": {
    "ExecuteTime": {
     "end_time": "2020-09-20T20:17:00.742505Z",
     "start_time": "2020-09-20T20:17:00.686502Z"
    }
   },
   "outputs": [
    {
     "data": {
      "text/html": [
       "<div>\n",
       "<style scoped>\n",
       "    .dataframe tbody tr th:only-of-type {\n",
       "        vertical-align: middle;\n",
       "    }\n",
       "\n",
       "    .dataframe tbody tr th {\n",
       "        vertical-align: top;\n",
       "    }\n",
       "\n",
       "    .dataframe thead th {\n",
       "        text-align: right;\n",
       "    }\n",
       "</style>\n",
       "<table border=\"1\" class=\"dataframe\">\n",
       "  <thead>\n",
       "    <tr style=\"text-align: right;\">\n",
       "      <th>promotion</th>\n",
       "      <th>0</th>\n",
       "      <th>1</th>\n",
       "    </tr>\n",
       "    <tr>\n",
       "      <th>service</th>\n",
       "      <th></th>\n",
       "      <th></th>\n",
       "    </tr>\n",
       "  </thead>\n",
       "  <tbody>\n",
       "    <tr>\n",
       "      <th>1</th>\n",
       "      <td>4170</td>\n",
       "      <td>377</td>\n",
       "    </tr>\n",
       "    <tr>\n",
       "      <th>2</th>\n",
       "      <td>6089</td>\n",
       "      <td>595</td>\n",
       "    </tr>\n",
       "    <tr>\n",
       "      <th>3</th>\n",
       "      <td>6424</td>\n",
       "      <td>609</td>\n",
       "    </tr>\n",
       "    <tr>\n",
       "      <th>4</th>\n",
       "      <td>6238</td>\n",
       "      <td>598</td>\n",
       "    </tr>\n",
       "    <tr>\n",
       "      <th>5</th>\n",
       "      <td>5357</td>\n",
       "      <td>475</td>\n",
       "    </tr>\n",
       "  </tbody>\n",
       "</table>\n",
       "</div>"
      ],
      "text/plain": [
       "promotion     0    1\n",
       "service             \n",
       "1          4170  377\n",
       "2          6089  595\n",
       "3          6424  609\n",
       "4          6238  598\n",
       "5          5357  475"
      ]
     },
     "execution_count": 16,
     "metadata": {},
     "output_type": "execute_result"
    }
   ],
   "source": [
    "# восспользуемся функцией crosstab. Она создает кросс табуляцию двух или нескольких факторов\n",
    "data = pd.crosstab(train_raw['service'], train_raw['promotion'])\n",
    "data.head(5)"
   ]
  },
  {
   "cell_type": "code",
   "execution_count": 17,
   "metadata": {
    "ExecuteTime": {
     "end_time": "2020-09-20T20:17:01.472502Z",
     "start_time": "2020-09-20T20:17:00.745514Z"
    }
   },
   "outputs": [
    {
     "data": {
      "image/png": "[encoded data removed]",
      "text/plain": [
       "<Figure size 1080x360 with 1 Axes>"
      ]
     },
     "metadata": {},
     "output_type": "display_data"
    }
   ],
   "source": [
    "# нормируем данные для удобства\n",
    "data = data.div(data.sum(1).astype('float'), axis = 0)\n",
    "data.plot(kind = 'bar', stacked = True, figsize = (15, 5), color = ['grey', 'green'])\n",
    "plt.box(False)\n",
    "plt.title('Зависимость стажа и повышения', fontsize = 20)\n",
    "plt.xlabel('Стаж', fontsize = 14)\n",
    "plt.legend(loc='upper right');"
   ]
  },
  {
   "cell_type": "markdown",
   "metadata": {},
   "source": [
    "Из графика наглядно видно, что повышают как не очень опытных, так и более опытных сотрудников. Максимальное же количество повышений можно наблюдать для возраста 32-34 года. "
   ]
  },
  {
   "cell_type": "markdown",
   "metadata": {},
   "source": [
    "___\n",
    "Проделаем тоже самое для возраста"
   ]
  },
  {
   "cell_type": "code",
   "execution_count": 18,
   "metadata": {
    "ExecuteTime": {
     "end_time": "2020-09-20T20:17:02.303501Z",
     "start_time": "2020-09-20T20:17:01.476499Z"
    }
   },
   "outputs": [
    {
     "data": {
      "image/png": "[encoded data removed]",
      "text/plain": [
       "<Figure size 1080x360 with 1 Axes>"
      ]
     },
     "metadata": {},
     "output_type": "display_data"
    }
   ],
   "source": [
    "df = pd.crosstab(train_raw['age'], train_raw['promotion'])\n",
    "df = df.div(df.sum(1).astype('float'), axis = 0)\n",
    "df.plot(kind = 'bar', stacked = True, figsize = (15, 5), color = ['lightgrey', 'green'])\n",
    "\n",
    "plt.title('Связь возраста и повышения', fontsize = 20)\n",
    "plt.xlabel('Возраст', fontsize = 14)\n",
    "plt.box(False)\n",
    "plt.legend(loc='upper right');"
   ]
  },
  {
   "cell_type": "markdown",
   "metadata": {},
   "source": [
    "Это интересное наблюдение, из которого видно, что повышают как молодых сотрудников, так даже и людей в уже пред пенсионном возрасте (55-60 лет). То есть для данной компании не важен возраст сотрудника и это не причина не давать повышение"
   ]
  },
  {
   "cell_type": "markdown",
   "metadata": {},
   "source": [
    "___\n",
    "На следующих графиках видно общее соотношение полученных наград, видимо в каких то соревнованиях, и зависимость повышения от того, получил ли награду сотрудник или нет. Видно, что количество тех сотрудников которые получили награду значительно меньше, так же видно, что сотрудников с наградой повышают больше. Но я думаю, это зависимость от третьего фактора, а именно, если сотрудник получил какую-то награду, то скорее всего он лучше работает и активнее себя проявляет. Само по себе наличие награды, думаю, что влияет не сильно, это показывает достаточно не высокий коэффициент корреляции."
   ]
  },
  {
   "cell_type": "code",
   "execution_count": 19,
   "metadata": {
    "ExecuteTime": {
     "end_time": "2020-09-20T20:17:02.784496Z",
     "start_time": "2020-09-20T20:17:02.306507Z"
    }
   },
   "outputs": [
    {
     "data": {
      "image/png": "[encoded data removed]",
      "text/plain": [
       "<Figure size 648x648 with 1 Axes>"
      ]
     },
     "metadata": {},
     "output_type": "display_data"
    },
    {
     "data": {
      "image/png": "[encoded data removed]",
      "text/plain": [
       "<Figure size 1080x360 with 1 Axes>"
      ]
     },
     "metadata": {},
     "output_type": "display_data"
    }
   ],
   "source": [
    "colors = ['blue', 'red']\n",
    "labels = \"Награды нет\", \"Есть награда\"\n",
    "\n",
    "my_circle = plt.Circle((0, 0), 0.7, color = 'white')\n",
    "size = [53538, 1270]\n",
    "plt.rcParams['figure.figsize'] = (9, 9)\n",
    "plt.pie(size, colors = colors, labels = labels, autopct = '%.2f%%')\n",
    "p = plt.gcf()\n",
    "p.gca().add_artist(my_circle)\n",
    "plt.title('Соотношение сотрудников с наградой и без нее', fontsize = 20)\n",
    "\n",
    "df = pd.crosstab(train_raw['awards'], train_raw['promotion'])\n",
    "df = df.div(df.sum(1).astype('float'), axis = 0)\n",
    "df.plot(kind = 'bar', stacked = True, figsize = (15, 5), color = ['lightgrey', 'green'])\n",
    "plt.title('Взаимосвязь повышения и наличие награды', fontsize = 20)\n",
    "plt.xlabel('Наличие награды', fontsize = 14)\n",
    "plt.xticks(rotation=0)\n",
    "plt.box(False)"
   ]
  },
  {
   "cell_type": "markdown",
   "metadata": {},
   "source": [
    "___\n",
    "Далее заметим, во-первых, что данные типа `float`, но на самом деле здесь всего 5 значений, можно рассматривать это как пять категорий, логично было бы перевести в тип `int`. Также видно, что впринципе чем больше значение рейтинга, тем больше число повышений. Наиболее же частый рейтинг равен трем."
   ]
  },
  {
   "cell_type": "code",
   "execution_count": 20,
   "metadata": {
    "ExecuteTime": {
     "end_time": "2020-09-20T20:17:03.052499Z",
     "start_time": "2020-09-20T20:17:02.786501Z"
    }
   },
   "outputs": [
    {
     "data": {
      "image/png": "[encoded data removed]",
      "text/plain": [
       "<Figure size 648x648 with 1 Axes>"
      ]
     },
     "metadata": {},
     "output_type": "display_data"
    }
   ],
   "source": [
    "sns.countplot('prev_year_rating', hue='promotion', data=train_raw, dodge=False)\n",
    "plt.title('Рейтинг предыдущего года')\n",
    "plt.ylabel('')\n",
    "plt.xlabel('')\n",
    "sns.despine()"
   ]
  },
  {
   "cell_type": "markdown",
   "metadata": {
    "ExecuteTime": {
     "end_time": "2020-09-19T16:08:10.737209Z",
     "start_time": "2020-09-19T16:08:10.719533Z"
    }
   },
   "source": [
    "___\n",
    "Ну и в конце интересно было бы посмотреть на уровень образования и его влияние на повышение\n",
    "\n"
   ]
  },
  {
   "cell_type": "code",
   "execution_count": 21,
   "metadata": {
    "ExecuteTime": {
     "end_time": "2020-09-20T20:17:03.426499Z",
     "start_time": "2020-09-20T20:17:03.054498Z"
    }
   },
   "outputs": [
    {
     "data": {
      "image/png": "[encoded data removed]",
      "text/plain": [
       "<Figure size 1080x576 with 1 Axes>"
      ]
     },
     "metadata": {},
     "output_type": "display_data"
    },
    {
     "data": {
      "image/png": "[encoded data removed]",
      "text/plain": [
       "<Figure size 1080x360 with 1 Axes>"
      ]
     },
     "metadata": {},
     "output_type": "display_data"
    }
   ],
   "source": [
    "df = train_raw.groupby('education').size()\n",
    "df.plot(kind='pie', subplots=True, figsize=(15, 8))\n",
    "plt.ylabel('')\n",
    "plt.title('Уровень образования в компании');\n",
    "\n",
    "df = pd.crosstab(train_raw['education'], train_raw['promotion'])\n",
    "df = df.div(df.sum(1).astype('float'), axis = 0)\n",
    "df.plot(kind = 'bar', stacked = True, figsize = (15, 5), color = ['grey', 'green'], alpha=0.8)\n",
    "plt.title('Связть образования и повышения в компании')\n",
    "plt.xticks(rotation=0)\n",
    "plt.xlabel('')\n",
    "plt.box(False);"
   ]
  },
  {
   "cell_type": "markdown",
   "metadata": {},
   "source": [
    "Большинство сотрудников имеют образование бакалавриата, есть сотрудники без высшего образования. Интересно, что уровень образования абсолютно никак не влияет на повышение. Например, люди без образования получают повышение не реже, чем бакалавры. Впринципе данный признак можно вовсе исключить из модели, так как он не играет никакой роли на таргетное значение повышения."
   ]
  },
  {
   "cell_type": "markdown",
   "metadata": {},
   "source": [
    "### Dealing with null variables"
   ]
  },
  {
   "cell_type": "markdown",
   "metadata": {},
   "source": [
    "Исследуем количество пропущенных значений"
   ]
  },
  {
   "cell_type": "code",
   "execution_count": 22,
   "metadata": {
    "ExecuteTime": {
     "end_time": "2020-09-20T20:17:03.436504Z",
     "start_time": "2020-09-20T20:17:03.428497Z"
    }
   },
   "outputs": [],
   "source": [
    "# Посмотрим на пропущенные значения в виде таблички в процентах\n",
    "def missing_data_in_percentage(df):\n",
    "    for col in df.columns:\n",
    "        pct_missing = np.mean(df[col].isnull())\n",
    "        print('{} - {}%'.format(col, round(pct_missing*100)))"
   ]
  },
  {
   "cell_type": "code",
   "execution_count": 23,
   "metadata": {
    "ExecuteTime": {
     "end_time": "2020-09-20T20:17:03.505501Z",
     "start_time": "2020-09-20T20:17:03.439500Z"
    }
   },
   "outputs": [
    {
     "name": "stdout",
     "output_type": "stream",
     "text": [
      "department - 0.0%\n",
      "region - 0.0%\n",
      "education - 4.0%\n",
      "gender - 0.0%\n",
      "recr_source - 0.0%\n",
      "training_num - 0.0%\n",
      "age - 0.0%\n",
      "prev_year_rating - 8.0%\n",
      "service - 0.0%\n",
      "kpi_80 - 0.0%\n",
      "awards - 0.0%\n",
      "avg_training_score - 0.0%\n",
      "promotion - 0.0%\n"
     ]
    }
   ],
   "source": [
    "missing_data_in_percentage(train_raw)"
   ]
  },
  {
   "cell_type": "code",
   "execution_count": 24,
   "metadata": {
    "ExecuteTime": {
     "end_time": "2020-09-20T20:17:03.537498Z",
     "start_time": "2020-09-20T20:17:03.508509Z"
    }
   },
   "outputs": [
    {
     "name": "stdout",
     "output_type": "stream",
     "text": [
      "department - 0.0%\n",
      "region - 0.0%\n",
      "education - 4.0%\n",
      "gender - 0.0%\n",
      "recr_source - 0.0%\n",
      "training_num - 0.0%\n",
      "age - 0.0%\n",
      "prev_year_rating - 8.0%\n",
      "service - 0.0%\n",
      "kpi_80 - 0.0%\n",
      "awards - 0.0%\n",
      "avg_training_score - 0.0%\n"
     ]
    }
   ],
   "source": [
    "missing_data_in_percentage(test_raw)"
   ]
  },
  {
   "cell_type": "markdown",
   "metadata": {},
   "source": [
    "Визуализируем пропущенные данный с помощью heat plot"
   ]
  },
  {
   "cell_type": "code",
   "execution_count": 25,
   "metadata": {
    "ExecuteTime": {
     "end_time": "2020-09-20T20:17:03.552505Z",
     "start_time": "2020-09-20T20:17:03.543501Z"
    }
   },
   "outputs": [],
   "source": [
    "def plot_null_matrix(df, figsize=(10,10)):\n",
    "    # initiate the figure\n",
    "    plt.figure(figsize=figsize)\n",
    "    # create a boolean dataframe based on whether values are null\n",
    "    df_null = df.isnull()\n",
    "    # create a heatmap of the boolean dataframe\n",
    "    sns.heatmap(~df_null, cbar=False, yticklabels=False)\n",
    "    plt.xticks(rotation=90, size='x-large')\n",
    "    plt.show()"
   ]
  },
  {
   "cell_type": "code",
   "execution_count": 26,
   "metadata": {
    "ExecuteTime": {
     "end_time": "2020-09-20T20:17:03.925499Z",
     "start_time": "2020-09-20T20:17:03.557502Z"
    }
   },
   "outputs": [
    {
     "data": {
      "image/png": "[encoded data removed]",
      "text/plain": [
       "<Figure size 720x720 with 1 Axes>"
      ]
     },
     "metadata": {},
     "output_type": "display_data"
    }
   ],
   "source": [
    "plot_null_matrix(train_raw[['prev_year_rating', 'education']])"
   ]
  },
  {
   "cell_type": "code",
   "execution_count": 27,
   "metadata": {
    "ExecuteTime": {
     "end_time": "2020-09-20T20:17:03.990503Z",
     "start_time": "2020-09-20T20:17:03.927503Z"
    }
   },
   "outputs": [
    {
     "name": "stdout",
     "output_type": "stream",
     "text": [
      "                  education  prev_year_rating\n",
      "education          1.000000          0.068744\n",
      "prev_year_rating   0.068744          1.000000\n",
      "\n",
      "                   education  prev_year_rating\n",
      "education          1.000000          0.074076\n",
      "prev_year_rating   0.074076          1.000000\n"
     ]
    }
   ],
   "source": [
    "# посмотри на корреляцию признаков с пропущенными значениями \n",
    "cols_with_missing_vals = train_raw.columns[train_raw.isnull().sum() > 0]\n",
    "missing_corr_train = train_raw[cols_with_missing_vals].isnull().corr()\n",
    "print(missing_corr_train)\n",
    "\n",
    "cols_with_missing_vals = test_raw.columns[test_raw.isnull().sum() > 0]\n",
    "missing_corr_test = test_raw[cols_with_missing_vals].isnull().corr()\n",
    "print('\\n', missing_corr_test)"
   ]
  },
  {
   "cell_type": "markdown",
   "metadata": {},
   "source": [
    "___\n",
    "Видно, что признаки с пропущенными данными не коррелируют между собой.\n",
    "\n",
    "У нас есть несколько вариантов борьбы с пропущенными данными, удалить эти объекты, либо заполнить эти пропущенные данные. Так как пропущенных значений в `education` мало, и как мы видели присутствует сильное доминирование одного класса над другими, мы могли бы заполнить эти данные модой.\n",
    "\n",
    "Что касается `prev_year_rating`, то этот признак достаточно сильно влияет на задачу классификации и нужно дополнительно исследовать природу пропущенных значений "
   ]
  },
  {
   "cell_type": "code",
   "execution_count": 28,
   "metadata": {
    "ExecuteTime": {
     "end_time": "2020-09-20T20:17:04.035509Z",
     "start_time": "2020-09-20T20:17:03.993504Z"
    }
   },
   "outputs": [
    {
     "data": {
      "text/html": [
       "<div>\n",
       "<style scoped>\n",
       "    .dataframe tbody tr th:only-of-type {\n",
       "        vertical-align: middle;\n",
       "    }\n",
       "\n",
       "    .dataframe tbody tr th {\n",
       "        vertical-align: top;\n",
       "    }\n",
       "\n",
       "    .dataframe thead th {\n",
       "        text-align: right;\n",
       "    }\n",
       "</style>\n",
       "<table border=\"1\" class=\"dataframe\">\n",
       "  <thead>\n",
       "    <tr style=\"text-align: right;\">\n",
       "      <th></th>\n",
       "      <th>department</th>\n",
       "      <th>region</th>\n",
       "      <th>education</th>\n",
       "      <th>gender</th>\n",
       "      <th>recr_source</th>\n",
       "      <th>training_num</th>\n",
       "      <th>age</th>\n",
       "      <th>prev_year_rating</th>\n",
       "      <th>service</th>\n",
       "      <th>kpi_80</th>\n",
       "      <th>awards</th>\n",
       "      <th>avg_training_score</th>\n",
       "      <th>promotion</th>\n",
       "    </tr>\n",
       "  </thead>\n",
       "  <tbody>\n",
       "    <tr>\n",
       "      <th>10</th>\n",
       "      <td>Technology</td>\n",
       "      <td>region_23</td>\n",
       "      <td>NaN</td>\n",
       "      <td>m</td>\n",
       "      <td>sourcing</td>\n",
       "      <td>1</td>\n",
       "      <td>30</td>\n",
       "      <td>NaN</td>\n",
       "      <td>1</td>\n",
       "      <td>0</td>\n",
       "      <td>0</td>\n",
       "      <td>77</td>\n",
       "      <td>0</td>\n",
       "    </tr>\n",
       "    <tr>\n",
       "      <th>23</th>\n",
       "      <td>Procurement</td>\n",
       "      <td>region_5</td>\n",
       "      <td>Bachelor's</td>\n",
       "      <td>m</td>\n",
       "      <td>other</td>\n",
       "      <td>1</td>\n",
       "      <td>27</td>\n",
       "      <td>NaN</td>\n",
       "      <td>1</td>\n",
       "      <td>0</td>\n",
       "      <td>0</td>\n",
       "      <td>70</td>\n",
       "      <td>0</td>\n",
       "    </tr>\n",
       "    <tr>\n",
       "      <th>29</th>\n",
       "      <td>Sales &amp; Marketing</td>\n",
       "      <td>region_4</td>\n",
       "      <td>Bachelor's</td>\n",
       "      <td>m</td>\n",
       "      <td>sourcing</td>\n",
       "      <td>1</td>\n",
       "      <td>26</td>\n",
       "      <td>NaN</td>\n",
       "      <td>1</td>\n",
       "      <td>0</td>\n",
       "      <td>0</td>\n",
       "      <td>44</td>\n",
       "      <td>0</td>\n",
       "    </tr>\n",
       "    <tr>\n",
       "      <th>56</th>\n",
       "      <td>Sales &amp; Marketing</td>\n",
       "      <td>region_31</td>\n",
       "      <td>Bachelor's</td>\n",
       "      <td>f</td>\n",
       "      <td>other</td>\n",
       "      <td>1</td>\n",
       "      <td>29</td>\n",
       "      <td>NaN</td>\n",
       "      <td>1</td>\n",
       "      <td>0</td>\n",
       "      <td>0</td>\n",
       "      <td>49</td>\n",
       "      <td>0</td>\n",
       "    </tr>\n",
       "    <tr>\n",
       "      <th>58</th>\n",
       "      <td>Sales &amp; Marketing</td>\n",
       "      <td>region_16</td>\n",
       "      <td>Bachelor's</td>\n",
       "      <td>m</td>\n",
       "      <td>other</td>\n",
       "      <td>2</td>\n",
       "      <td>27</td>\n",
       "      <td>NaN</td>\n",
       "      <td>1</td>\n",
       "      <td>1</td>\n",
       "      <td>0</td>\n",
       "      <td>47</td>\n",
       "      <td>0</td>\n",
       "    </tr>\n",
       "    <tr>\n",
       "      <th>62</th>\n",
       "      <td>Analytics</td>\n",
       "      <td>region_22</td>\n",
       "      <td>Bachelor's</td>\n",
       "      <td>f</td>\n",
       "      <td>other</td>\n",
       "      <td>1</td>\n",
       "      <td>28</td>\n",
       "      <td>NaN</td>\n",
       "      <td>1</td>\n",
       "      <td>1</td>\n",
       "      <td>0</td>\n",
       "      <td>80</td>\n",
       "      <td>0</td>\n",
       "    </tr>\n",
       "    <tr>\n",
       "      <th>66</th>\n",
       "      <td>Finance</td>\n",
       "      <td>region_22</td>\n",
       "      <td>Bachelor's</td>\n",
       "      <td>m</td>\n",
       "      <td>other</td>\n",
       "      <td>1</td>\n",
       "      <td>27</td>\n",
       "      <td>NaN</td>\n",
       "      <td>1</td>\n",
       "      <td>1</td>\n",
       "      <td>1</td>\n",
       "      <td>58</td>\n",
       "      <td>1</td>\n",
       "    </tr>\n",
       "    <tr>\n",
       "      <th>67</th>\n",
       "      <td>Sales &amp; Marketing</td>\n",
       "      <td>region_22</td>\n",
       "      <td>Bachelor's</td>\n",
       "      <td>m</td>\n",
       "      <td>sourcing</td>\n",
       "      <td>1</td>\n",
       "      <td>27</td>\n",
       "      <td>NaN</td>\n",
       "      <td>1</td>\n",
       "      <td>0</td>\n",
       "      <td>0</td>\n",
       "      <td>61</td>\n",
       "      <td>1</td>\n",
       "    </tr>\n",
       "    <tr>\n",
       "      <th>84</th>\n",
       "      <td>Legal</td>\n",
       "      <td>region_7</td>\n",
       "      <td>Bachelor's</td>\n",
       "      <td>m</td>\n",
       "      <td>other</td>\n",
       "      <td>1</td>\n",
       "      <td>29</td>\n",
       "      <td>NaN</td>\n",
       "      <td>1</td>\n",
       "      <td>0</td>\n",
       "      <td>0</td>\n",
       "      <td>65</td>\n",
       "      <td>1</td>\n",
       "    </tr>\n",
       "    <tr>\n",
       "      <th>89</th>\n",
       "      <td>Sales &amp; Marketing</td>\n",
       "      <td>region_31</td>\n",
       "      <td>Bachelor's</td>\n",
       "      <td>f</td>\n",
       "      <td>other</td>\n",
       "      <td>1</td>\n",
       "      <td>31</td>\n",
       "      <td>NaN</td>\n",
       "      <td>1</td>\n",
       "      <td>0</td>\n",
       "      <td>0</td>\n",
       "      <td>51</td>\n",
       "      <td>0</td>\n",
       "    </tr>\n",
       "    <tr>\n",
       "      <th>90</th>\n",
       "      <td>Sales &amp; Marketing</td>\n",
       "      <td>region_2</td>\n",
       "      <td>NaN</td>\n",
       "      <td>f</td>\n",
       "      <td>sourcing</td>\n",
       "      <td>1</td>\n",
       "      <td>20</td>\n",
       "      <td>NaN</td>\n",
       "      <td>1</td>\n",
       "      <td>0</td>\n",
       "      <td>0</td>\n",
       "      <td>55</td>\n",
       "      <td>0</td>\n",
       "    </tr>\n",
       "    <tr>\n",
       "      <th>96</th>\n",
       "      <td>Technology</td>\n",
       "      <td>region_26</td>\n",
       "      <td>Bachelor's</td>\n",
       "      <td>f</td>\n",
       "      <td>sourcing</td>\n",
       "      <td>1</td>\n",
       "      <td>23</td>\n",
       "      <td>NaN</td>\n",
       "      <td>1</td>\n",
       "      <td>0</td>\n",
       "      <td>0</td>\n",
       "      <td>77</td>\n",
       "      <td>0</td>\n",
       "    </tr>\n",
       "    <tr>\n",
       "      <th>111</th>\n",
       "      <td>HR</td>\n",
       "      <td>region_13</td>\n",
       "      <td>Bachelor's</td>\n",
       "      <td>f</td>\n",
       "      <td>other</td>\n",
       "      <td>1</td>\n",
       "      <td>30</td>\n",
       "      <td>NaN</td>\n",
       "      <td>1</td>\n",
       "      <td>1</td>\n",
       "      <td>0</td>\n",
       "      <td>54</td>\n",
       "      <td>0</td>\n",
       "    </tr>\n",
       "    <tr>\n",
       "      <th>123</th>\n",
       "      <td>Operations</td>\n",
       "      <td>region_22</td>\n",
       "      <td>Bachelor's</td>\n",
       "      <td>f</td>\n",
       "      <td>sourcing</td>\n",
       "      <td>1</td>\n",
       "      <td>27</td>\n",
       "      <td>NaN</td>\n",
       "      <td>1</td>\n",
       "      <td>1</td>\n",
       "      <td>0</td>\n",
       "      <td>58</td>\n",
       "      <td>0</td>\n",
       "    </tr>\n",
       "    <tr>\n",
       "      <th>125</th>\n",
       "      <td>Analytics</td>\n",
       "      <td>region_8</td>\n",
       "      <td>Bachelor's</td>\n",
       "      <td>m</td>\n",
       "      <td>other</td>\n",
       "      <td>1</td>\n",
       "      <td>28</td>\n",
       "      <td>NaN</td>\n",
       "      <td>1</td>\n",
       "      <td>1</td>\n",
       "      <td>0</td>\n",
       "      <td>83</td>\n",
       "      <td>0</td>\n",
       "    </tr>\n",
       "    <tr>\n",
       "      <th>127</th>\n",
       "      <td>Sales &amp; Marketing</td>\n",
       "      <td>region_27</td>\n",
       "      <td>Bachelor's</td>\n",
       "      <td>f</td>\n",
       "      <td>other</td>\n",
       "      <td>1</td>\n",
       "      <td>30</td>\n",
       "      <td>NaN</td>\n",
       "      <td>1</td>\n",
       "      <td>0</td>\n",
       "      <td>0</td>\n",
       "      <td>50</td>\n",
       "      <td>0</td>\n",
       "    </tr>\n",
       "    <tr>\n",
       "      <th>135</th>\n",
       "      <td>Operations</td>\n",
       "      <td>region_7</td>\n",
       "      <td>Bachelor's</td>\n",
       "      <td>m</td>\n",
       "      <td>sourcing</td>\n",
       "      <td>1</td>\n",
       "      <td>24</td>\n",
       "      <td>NaN</td>\n",
       "      <td>1</td>\n",
       "      <td>1</td>\n",
       "      <td>0</td>\n",
       "      <td>56</td>\n",
       "      <td>0</td>\n",
       "    </tr>\n",
       "    <tr>\n",
       "      <th>141</th>\n",
       "      <td>Finance</td>\n",
       "      <td>region_23</td>\n",
       "      <td>Bachelor's</td>\n",
       "      <td>m</td>\n",
       "      <td>sourcing</td>\n",
       "      <td>1</td>\n",
       "      <td>31</td>\n",
       "      <td>NaN</td>\n",
       "      <td>1</td>\n",
       "      <td>1</td>\n",
       "      <td>0</td>\n",
       "      <td>56</td>\n",
       "      <td>0</td>\n",
       "    </tr>\n",
       "    <tr>\n",
       "      <th>160</th>\n",
       "      <td>HR</td>\n",
       "      <td>region_4</td>\n",
       "      <td>Bachelor's</td>\n",
       "      <td>m</td>\n",
       "      <td>other</td>\n",
       "      <td>1</td>\n",
       "      <td>27</td>\n",
       "      <td>NaN</td>\n",
       "      <td>1</td>\n",
       "      <td>1</td>\n",
       "      <td>0</td>\n",
       "      <td>50</td>\n",
       "      <td>0</td>\n",
       "    </tr>\n",
       "    <tr>\n",
       "      <th>178</th>\n",
       "      <td>Finance</td>\n",
       "      <td>region_26</td>\n",
       "      <td>Bachelor's</td>\n",
       "      <td>m</td>\n",
       "      <td>other</td>\n",
       "      <td>1</td>\n",
       "      <td>23</td>\n",
       "      <td>NaN</td>\n",
       "      <td>1</td>\n",
       "      <td>0</td>\n",
       "      <td>0</td>\n",
       "      <td>61</td>\n",
       "      <td>0</td>\n",
       "    </tr>\n",
       "  </tbody>\n",
       "</table>\n",
       "</div>"
      ],
      "text/plain": [
       "            department     region   education gender recr_source  \\\n",
       "10          Technology  region_23         NaN      m    sourcing   \n",
       "23         Procurement   region_5  Bachelor's      m       other   \n",
       "29   Sales & Marketing   region_4  Bachelor's      m    sourcing   \n",
       "56   Sales & Marketing  region_31  Bachelor's      f       other   \n",
       "58   Sales & Marketing  region_16  Bachelor's      m       other   \n",
       "62           Analytics  region_22  Bachelor's      f       other   \n",
       "66             Finance  region_22  Bachelor's      m       other   \n",
       "67   Sales & Marketing  region_22  Bachelor's      m    sourcing   \n",
       "84               Legal   region_7  Bachelor's      m       other   \n",
       "89   Sales & Marketing  region_31  Bachelor's      f       other   \n",
       "90   Sales & Marketing   region_2         NaN      f    sourcing   \n",
       "96          Technology  region_26  Bachelor's      f    sourcing   \n",
       "111                 HR  region_13  Bachelor's      f       other   \n",
       "123         Operations  region_22  Bachelor's      f    sourcing   \n",
       "125          Analytics   region_8  Bachelor's      m       other   \n",
       "127  Sales & Marketing  region_27  Bachelor's      f       other   \n",
       "135         Operations   region_7  Bachelor's      m    sourcing   \n",
       "141            Finance  region_23  Bachelor's      m    sourcing   \n",
       "160                 HR   region_4  Bachelor's      m       other   \n",
       "178            Finance  region_26  Bachelor's      m       other   \n",
       "\n",
       "     training_num  age  prev_year_rating  service  kpi_80  awards  \\\n",
       "10              1   30               NaN        1       0       0   \n",
       "23              1   27               NaN        1       0       0   \n",
       "29              1   26               NaN        1       0       0   \n",
       "56              1   29               NaN        1       0       0   \n",
       "58              2   27               NaN        1       1       0   \n",
       "62              1   28               NaN        1       1       0   \n",
       "66              1   27               NaN        1       1       1   \n",
       "67              1   27               NaN        1       0       0   \n",
       "84              1   29               NaN        1       0       0   \n",
       "89              1   31               NaN        1       0       0   \n",
       "90              1   20               NaN        1       0       0   \n",
       "96              1   23               NaN        1       0       0   \n",
       "111             1   30               NaN        1       1       0   \n",
       "123             1   27               NaN        1       1       0   \n",
       "125             1   28               NaN        1       1       0   \n",
       "127             1   30               NaN        1       0       0   \n",
       "135             1   24               NaN        1       1       0   \n",
       "141             1   31               NaN        1       1       0   \n",
       "160             1   27               NaN        1       1       0   \n",
       "178             1   23               NaN        1       0       0   \n",
       "\n",
       "     avg_training_score  promotion  \n",
       "10                   77          0  \n",
       "23                   70          0  \n",
       "29                   44          0  \n",
       "56                   49          0  \n",
       "58                   47          0  \n",
       "62                   80          0  \n",
       "66                   58          1  \n",
       "67                   61          1  \n",
       "84                   65          1  \n",
       "89                   51          0  \n",
       "90                   55          0  \n",
       "96                   77          0  \n",
       "111                  54          0  \n",
       "123                  58          0  \n",
       "125                  83          0  \n",
       "127                  50          0  \n",
       "135                  56          0  \n",
       "141                  56          0  \n",
       "160                  50          0  \n",
       "178                  61          0  "
      ]
     },
     "execution_count": 28,
     "metadata": {},
     "output_type": "execute_result"
    }
   ],
   "source": [
    "train_raw[train_raw['prev_year_rating'].isnull()].head(20)"
   ]
  },
  {
   "cell_type": "markdown",
   "metadata": {},
   "source": [
    "Заметим, что пропущенные значения для этого признака соответствуют новым сотрудникам. Посмотрим, выполняется ли это предположение для всех пропущенных значений"
   ]
  },
  {
   "cell_type": "code",
   "execution_count": 29,
   "metadata": {
    "ExecuteTime": {
     "end_time": "2020-09-20T20:17:04.054502Z",
     "start_time": "2020-09-20T20:17:04.037501Z"
    }
   },
   "outputs": [
    {
     "data": {
      "text/plain": [
       "1    4124\n",
       "Name: service, dtype: int64"
      ]
     },
     "execution_count": 29,
     "metadata": {},
     "output_type": "execute_result"
    }
   ],
   "source": [
    "train_raw[train_raw['prev_year_rating'].isnull()]['service'].value_counts()"
   ]
  },
  {
   "cell_type": "markdown",
   "metadata": {
    "ExecuteTime": {
     "end_time": "2020-09-19T12:28:35.439748Z",
     "start_time": "2020-09-19T12:28:35.433747Z"
    }
   },
   "source": [
    "Это логично, так как сотрудник отработал всего год и не имеет оценки своей трудовой деятельности за прошлый год.\n",
    "Я предлагаю заполнить эти значения нулями. Это будет показывать модели, что сотрудник вновь прибывший и у него нет оценки рейтинга.\n",
    "\n",
    "Но выполняется ли это в обратную сторону"
   ]
  },
  {
   "cell_type": "code",
   "execution_count": 30,
   "metadata": {
    "ExecuteTime": {
     "end_time": "2020-09-20T20:17:04.073498Z",
     "start_time": "2020-09-20T20:17:04.057503Z"
    }
   },
   "outputs": [
    {
     "data": {
      "text/plain": [
       "NaN    4124\n",
       "3.0     158\n",
       "4.0     114\n",
       "5.0      64\n",
       "1.0      44\n",
       "2.0      43\n",
       "Name: prev_year_rating, dtype: int64"
      ]
     },
     "execution_count": 30,
     "metadata": {},
     "output_type": "execute_result"
    }
   ],
   "source": [
    "train_raw[train_raw['service']==1]['prev_year_rating'].value_counts(dropna=False)"
   ]
  },
  {
   "cell_type": "markdown",
   "metadata": {},
   "source": [
    "___\n",
    "На самом деле, существуют работники для которых стаж равен одному году, но они уже имеют оценку за прошлый год. Это может быть из-за того, что работника повысили уже после аттестации его за прошлый год, но еще не прошло два года, и допустим повышение произошло после 1.5 года работы. Чтобы не дезинформировать модель, я предлагаю заменить стаж для таких сотрудников на 2 года, к тому же их не так много по сравнению с теми, у которых стаж 1 год и нет оценки за прошлый.\n",
    "\n",
    "Да, будет 100% корреляция этого признака и сроком работы для новых сотрудников, но я считаю это лучше, чем заполнять этот признак уже имеющимися значениями, это будет вводить в заблуждение модель, или тем более удалять всех новых сотрудников. В данном случае, значение `prev_year_rating` = 0 будет индикатором того, что сотрудник отработал всего год и не имеет оценки за прошлый."
   ]
  },
  {
   "cell_type": "code",
   "execution_count": 31,
   "metadata": {
    "ExecuteTime": {
     "end_time": "2020-09-20T20:17:04.132506Z",
     "start_time": "2020-09-20T20:17:04.076496Z"
    }
   },
   "outputs": [
    {
     "name": "stdout",
     "output_type": "stream",
     "text": [
      "0\n",
      "0\n"
     ]
    }
   ],
   "source": [
    "# # для тренировочных данных\n",
    "train_raw.loc[:,'education'].fillna(train_raw['education'].mode()[0], inplace = True)\n",
    "train_raw.loc[:,'prev_year_rating'].fillna(0, inplace = True)\n",
    "# изменяем стаж, как написано выше \n",
    "train_raw.loc[(train_raw['prev_year_rating'] != 0) & (train_raw['service'] == 1), 'service'] = 2\n",
    "\n",
    "# # для тестовых данных\n",
    "test_raw.loc[:,'education'].fillna(test_raw['education'].mode()[0], inplace = True)\n",
    "test_raw.loc[:,'prev_year_rating'].fillna(0, inplace = True)\n",
    "test_raw.loc[(test_raw['prev_year_rating'] != 0) & (test_raw['service'] == 1), 'service'] = 2\n",
    "\n",
    "# проверяем остались ли пропущенные данные\n",
    "print(train_raw.isnull().sum().sum())\n",
    "print(test_raw.isnull().sum().sum())"
   ]
  },
  {
   "cell_type": "code",
   "execution_count": 32,
   "metadata": {
    "ExecuteTime": {
     "end_time": "2020-09-20T20:17:04.143497Z",
     "start_time": "2020-09-20T20:17:04.135510Z"
    }
   },
   "outputs": [],
   "source": [
    "# поменяем тип данных с float на int\n",
    "test_raw['prev_year_rating'] = test_raw['prev_year_rating'].astype(int)\n",
    "train_raw['prev_year_rating'] = train_raw['prev_year_rating'].astype(int)"
   ]
  },
  {
   "cell_type": "markdown",
   "metadata": {},
   "source": [
    "### Data normalization"
   ]
  },
  {
   "cell_type": "markdown",
   "metadata": {},
   "source": [
    "У нас нет непрерывных количественных признаков, особого смысла в нормализации нет. Признаки, которые можно было бы привести к стандартному распределению - это возраст, стаж, средняя оценка за обучение (`avg_training_score`) и количество тренингов."
   ]
  },
  {
   "cell_type": "code",
   "execution_count": 33,
   "metadata": {
    "ExecuteTime": {
     "end_time": "2020-09-20T20:17:04.217498Z",
     "start_time": "2020-09-20T20:17:04.146503Z"
    }
   },
   "outputs": [
    {
     "data": {
      "text/html": [
       "<div>\n",
       "<style scoped>\n",
       "    .dataframe tbody tr th:only-of-type {\n",
       "        vertical-align: middle;\n",
       "    }\n",
       "\n",
       "    .dataframe tbody tr th {\n",
       "        vertical-align: top;\n",
       "    }\n",
       "\n",
       "    .dataframe thead th {\n",
       "        text-align: right;\n",
       "    }\n",
       "</style>\n",
       "<table border=\"1\" class=\"dataframe\">\n",
       "  <thead>\n",
       "    <tr style=\"text-align: right;\">\n",
       "      <th></th>\n",
       "      <th>age</th>\n",
       "      <th>avg_training_score</th>\n",
       "      <th>service</th>\n",
       "      <th>training_num</th>\n",
       "    </tr>\n",
       "  </thead>\n",
       "  <tbody>\n",
       "    <tr>\n",
       "      <th>count</th>\n",
       "      <td>5.480800e+04</td>\n",
       "      <td>5.480800e+04</td>\n",
       "      <td>5.480800e+04</td>\n",
       "      <td>5.480800e+04</td>\n",
       "    </tr>\n",
       "    <tr>\n",
       "      <th>mean</th>\n",
       "      <td>-3.489359e-16</td>\n",
       "      <td>-6.844296e-17</td>\n",
       "      <td>2.858204e-18</td>\n",
       "      <td>2.137098e-15</td>\n",
       "    </tr>\n",
       "    <tr>\n",
       "      <th>std</th>\n",
       "      <td>1.000000e+00</td>\n",
       "      <td>1.000000e+00</td>\n",
       "      <td>1.000000e+00</td>\n",
       "      <td>1.000000e+00</td>\n",
       "    </tr>\n",
       "    <tr>\n",
       "      <th>min</th>\n",
       "      <td>-1.932583e+00</td>\n",
       "      <td>-1.823778e+00</td>\n",
       "      <td>-1.144708e+00</td>\n",
       "      <td>-4.152724e-01</td>\n",
       "    </tr>\n",
       "    <tr>\n",
       "      <th>25%</th>\n",
       "      <td>-7.576746e-01</td>\n",
       "      <td>-9.263504e-01</td>\n",
       "      <td>-6.749139e-01</td>\n",
       "      <td>-4.152724e-01</td>\n",
       "    </tr>\n",
       "    <tr>\n",
       "      <th>50%</th>\n",
       "      <td>-2.354929e-01</td>\n",
       "      <td>-2.532801e-01</td>\n",
       "      <td>-2.051194e-01</td>\n",
       "      <td>-4.152724e-01</td>\n",
       "    </tr>\n",
       "    <tr>\n",
       "      <th>75%</th>\n",
       "      <td>5.477796e-01</td>\n",
       "      <td>9.432894e-01</td>\n",
       "      <td>2.646752e-01</td>\n",
       "      <td>-4.152724e-01</td>\n",
       "    </tr>\n",
       "    <tr>\n",
       "      <th>max</th>\n",
       "      <td>3.289233e+00</td>\n",
       "      <td>2.663358e+00</td>\n",
       "      <td>7.311593e+00</td>\n",
       "      <td>1.435665e+01</td>\n",
       "    </tr>\n",
       "  </tbody>\n",
       "</table>\n",
       "</div>"
      ],
      "text/plain": [
       "                age  avg_training_score       service  training_num\n",
       "count  5.480800e+04        5.480800e+04  5.480800e+04  5.480800e+04\n",
       "mean  -3.489359e-16       -6.844296e-17  2.858204e-18  2.137098e-15\n",
       "std    1.000000e+00        1.000000e+00  1.000000e+00  1.000000e+00\n",
       "min   -1.932583e+00       -1.823778e+00 -1.144708e+00 -4.152724e-01\n",
       "25%   -7.576746e-01       -9.263504e-01 -6.749139e-01 -4.152724e-01\n",
       "50%   -2.354929e-01       -2.532801e-01 -2.051194e-01 -4.152724e-01\n",
       "75%    5.477796e-01        9.432894e-01  2.646752e-01 -4.152724e-01\n",
       "max    3.289233e+00        2.663358e+00  7.311593e+00  1.435665e+01"
      ]
     },
     "execution_count": 33,
     "metadata": {},
     "output_type": "execute_result"
    }
   ],
   "source": [
    "# делаем выборку и нормализуем для тренировочного датасета\n",
    "train_subset = train_raw[['age', 'avg_training_score', 'service', 'training_num']] \n",
    "train_subset_stand = (train_subset - train_subset.mean())/train_subset.std()\n",
    "train_subset_stand.describe()"
   ]
  },
  {
   "cell_type": "code",
   "execution_count": 34,
   "metadata": {
    "ExecuteTime": {
     "end_time": "2020-09-20T20:17:04.233498Z",
     "start_time": "2020-09-20T20:17:04.219496Z"
    }
   },
   "outputs": [],
   "source": [
    "# заменим в датасете\n",
    "train_raw[['age', 'avg_training_score', 'service', 'training_num']] = train_subset_stand"
   ]
  },
  {
   "cell_type": "code",
   "execution_count": 35,
   "metadata": {
    "ExecuteTime": {
     "end_time": "2020-09-20T20:17:04.259498Z",
     "start_time": "2020-09-20T20:17:04.235504Z"
    }
   },
   "outputs": [
    {
     "data": {
      "text/html": [
       "<div>\n",
       "<style scoped>\n",
       "    .dataframe tbody tr th:only-of-type {\n",
       "        vertical-align: middle;\n",
       "    }\n",
       "\n",
       "    .dataframe tbody tr th {\n",
       "        vertical-align: top;\n",
       "    }\n",
       "\n",
       "    .dataframe thead th {\n",
       "        text-align: right;\n",
       "    }\n",
       "</style>\n",
       "<table border=\"1\" class=\"dataframe\">\n",
       "  <thead>\n",
       "    <tr style=\"text-align: right;\">\n",
       "      <th></th>\n",
       "      <th>department</th>\n",
       "      <th>region</th>\n",
       "      <th>education</th>\n",
       "      <th>gender</th>\n",
       "      <th>recr_source</th>\n",
       "      <th>training_num</th>\n",
       "      <th>age</th>\n",
       "      <th>prev_year_rating</th>\n",
       "      <th>service</th>\n",
       "      <th>kpi_80</th>\n",
       "      <th>awards</th>\n",
       "      <th>avg_training_score</th>\n",
       "      <th>promotion</th>\n",
       "    </tr>\n",
       "  </thead>\n",
       "  <tbody>\n",
       "    <tr>\n",
       "      <th>0</th>\n",
       "      <td>Sales &amp; Marketing</td>\n",
       "      <td>region_7</td>\n",
       "      <td>Master's &amp; above</td>\n",
       "      <td>f</td>\n",
       "      <td>sourcing</td>\n",
       "      <td>-0.415272</td>\n",
       "      <td>0.025598</td>\n",
       "      <td>5</td>\n",
       "      <td>0.499572</td>\n",
       "      <td>1</td>\n",
       "      <td>0</td>\n",
       "      <td>-1.075922</td>\n",
       "      <td>0</td>\n",
       "    </tr>\n",
       "    <tr>\n",
       "      <th>1</th>\n",
       "      <td>Operations</td>\n",
       "      <td>region_22</td>\n",
       "      <td>Bachelor's</td>\n",
       "      <td>m</td>\n",
       "      <td>other</td>\n",
       "      <td>-0.415272</td>\n",
       "      <td>-0.627129</td>\n",
       "      <td>5</td>\n",
       "      <td>-0.440017</td>\n",
       "      <td>0</td>\n",
       "      <td>0</td>\n",
       "      <td>-0.253280</td>\n",
       "      <td>0</td>\n",
       "    </tr>\n",
       "    <tr>\n",
       "      <th>2</th>\n",
       "      <td>Sales &amp; Marketing</td>\n",
       "      <td>region_19</td>\n",
       "      <td>Bachelor's</td>\n",
       "      <td>m</td>\n",
       "      <td>sourcing</td>\n",
       "      <td>-0.415272</td>\n",
       "      <td>-0.104947</td>\n",
       "      <td>3</td>\n",
       "      <td>0.264675</td>\n",
       "      <td>0</td>\n",
       "      <td>0</td>\n",
       "      <td>-1.001136</td>\n",
       "      <td>0</td>\n",
       "    </tr>\n",
       "    <tr>\n",
       "      <th>3</th>\n",
       "      <td>Sales &amp; Marketing</td>\n",
       "      <td>region_23</td>\n",
       "      <td>Bachelor's</td>\n",
       "      <td>m</td>\n",
       "      <td>other</td>\n",
       "      <td>1.226052</td>\n",
       "      <td>0.547780</td>\n",
       "      <td>1</td>\n",
       "      <td>0.969367</td>\n",
       "      <td>0</td>\n",
       "      <td>0</td>\n",
       "      <td>-1.001136</td>\n",
       "      <td>0</td>\n",
       "    </tr>\n",
       "    <tr>\n",
       "      <th>4</th>\n",
       "      <td>Technology</td>\n",
       "      <td>region_26</td>\n",
       "      <td>Bachelor's</td>\n",
       "      <td>m</td>\n",
       "      <td>other</td>\n",
       "      <td>-0.415272</td>\n",
       "      <td>1.331052</td>\n",
       "      <td>3</td>\n",
       "      <td>-0.909811</td>\n",
       "      <td>0</td>\n",
       "      <td>0</td>\n",
       "      <td>0.718933</td>\n",
       "      <td>0</td>\n",
       "    </tr>\n",
       "  </tbody>\n",
       "</table>\n",
       "</div>"
      ],
      "text/plain": [
       "          department     region         education gender recr_source  \\\n",
       "0  Sales & Marketing   region_7  Master's & above      f    sourcing   \n",
       "1         Operations  region_22        Bachelor's      m       other   \n",
       "2  Sales & Marketing  region_19        Bachelor's      m    sourcing   \n",
       "3  Sales & Marketing  region_23        Bachelor's      m       other   \n",
       "4         Technology  region_26        Bachelor's      m       other   \n",
       "\n",
       "   training_num       age  prev_year_rating   service  kpi_80  awards  \\\n",
       "0     -0.415272  0.025598                 5  0.499572       1       0   \n",
       "1     -0.415272 -0.627129                 5 -0.440017       0       0   \n",
       "2     -0.415272 -0.104947                 3  0.264675       0       0   \n",
       "3      1.226052  0.547780                 1  0.969367       0       0   \n",
       "4     -0.415272  1.331052                 3 -0.909811       0       0   \n",
       "\n",
       "   avg_training_score  promotion  \n",
       "0           -1.075922          0  \n",
       "1           -0.253280          0  \n",
       "2           -1.001136          0  \n",
       "3           -1.001136          0  \n",
       "4            0.718933          0  "
      ]
     },
     "execution_count": 35,
     "metadata": {},
     "output_type": "execute_result"
    }
   ],
   "source": [
    "train_raw.head()"
   ]
  },
  {
   "cell_type": "code",
   "execution_count": 36,
   "metadata": {
    "ExecuteTime": {
     "end_time": "2020-09-20T20:17:04.286493Z",
     "start_time": "2020-09-20T20:17:04.262501Z"
    }
   },
   "outputs": [],
   "source": [
    "# Тоже самое для тестового \n",
    "test_subset = test_raw[['age', 'avg_training_score', 'service', 'training_num']] \n",
    "test_subset_stand = (test_subset - test_subset.mean())/test_subset.std()\n",
    "test_raw[['age', 'avg_training_score', 'service', 'training_num']] = test_subset_stand"
   ]
  },
  {
   "cell_type": "markdown",
   "metadata": {},
   "source": [
    "## Training k-nn classifier"
   ]
  },
  {
   "cell_type": "markdown",
   "metadata": {},
   "source": [
    "### One hot encoding"
   ]
  },
  {
   "cell_type": "markdown",
   "metadata": {},
   "source": [
    "Приведем номинальные признаки к one-hot виду. При этом из каждого признака мы уберем один \"подпризнак\". Так как зная все остальные подпризнаки, мы можем найти данный. Допустим рассмотрим признак `education`. Тогда после преобразования у нас будет 3 столбца, где в одном из них всегда будет 1, а в других нули, тогда можно убрать один столбец, и, зная два других, мы сможем найти третий. Тем самым мы избавимся от лишней информации."
   ]
  },
  {
   "cell_type": "code",
   "execution_count": 37,
   "metadata": {
    "ExecuteTime": {
     "end_time": "2020-09-20T20:17:04.307503Z",
     "start_time": "2020-09-20T20:17:04.288496Z"
    }
   },
   "outputs": [
    {
     "name": "stdout",
     "output_type": "stream",
     "text": [
      "Shape of X_train: (54808, 12)\n",
      "Shape of y_train: (54808,)\n"
     ]
    }
   ],
   "source": [
    "X_train = train_raw.iloc[:, :-1]\n",
    "y_train = train_raw.iloc[:, -1]\n",
    "\n",
    "print(\"Shape of X_train:\", X_train.shape)\n",
    "print(\"Shape of y_train:\", y_train.shape)"
   ]
  },
  {
   "cell_type": "code",
   "execution_count": 38,
   "metadata": {
    "ExecuteTime": {
     "end_time": "2020-09-20T20:17:04.369496Z",
     "start_time": "2020-09-20T20:17:04.310498Z"
    }
   },
   "outputs": [
    {
     "data": {
      "text/plain": [
       "Index(['training_num', 'age', 'prev_year_rating', 'service', 'kpi_80',\n",
       "       'awards', 'avg_training_score', 'department_Analytics',\n",
       "       'department_Finance', 'department_HR', 'department_Legal',\n",
       "       'department_Operations', 'department_Procurement', 'department_R&D',\n",
       "       'department_Sales & Marketing', 'department_Technology',\n",
       "       'region_region_1', 'region_region_10', 'region_region_11',\n",
       "       'region_region_12', 'region_region_13', 'region_region_14',\n",
       "       'region_region_15', 'region_region_16', 'region_region_17',\n",
       "       'region_region_18', 'region_region_19', 'region_region_2',\n",
       "       'region_region_20', 'region_region_21', 'region_region_22',\n",
       "       'region_region_23', 'region_region_24', 'region_region_25',\n",
       "       'region_region_26', 'region_region_27', 'region_region_28',\n",
       "       'region_region_29', 'region_region_3', 'region_region_30',\n",
       "       'region_region_31', 'region_region_32', 'region_region_33',\n",
       "       'region_region_34', 'region_region_4', 'region_region_5',\n",
       "       'region_region_6', 'region_region_7', 'region_region_8',\n",
       "       'region_region_9', 'education_Bachelor's', 'education_Below Secondary',\n",
       "       'education_Master's & above', 'gender_f', 'gender_m',\n",
       "       'recr_source_other', 'recr_source_referred', 'recr_source_sourcing'],\n",
       "      dtype='object')"
      ]
     },
     "execution_count": 38,
     "metadata": {},
     "output_type": "execute_result"
    }
   ],
   "source": [
    "X_train = pd.get_dummies(X_train)\n",
    "X_train.columns"
   ]
  },
  {
   "cell_type": "code",
   "execution_count": 39,
   "metadata": {
    "ExecuteTime": {
     "end_time": "2020-09-20T20:17:04.394493Z",
     "start_time": "2020-09-20T20:17:04.371501Z"
    }
   },
   "outputs": [],
   "source": [
    "X_train = X_train.drop(columns=['department_Analytics', 'region_region_1',\n",
    "                                'education_Below Secondary', 'gender_f', 'recr_source_other'])"
   ]
  },
  {
   "cell_type": "code",
   "execution_count": 40,
   "metadata": {
    "ExecuteTime": {
     "end_time": "2020-09-20T20:17:04.405509Z",
     "start_time": "2020-09-20T20:17:04.396505Z"
    }
   },
   "outputs": [
    {
     "data": {
      "text/plain": [
       "Index(['training_num', 'age', 'prev_year_rating', 'service', 'kpi_80',\n",
       "       'awards', 'avg_training_score', 'department_Finance', 'department_HR',\n",
       "       'department_Legal', 'department_Operations', 'department_Procurement',\n",
       "       'department_R&D', 'department_Sales & Marketing',\n",
       "       'department_Technology', 'region_10', 'region_11', 'region_12',\n",
       "       'region_13', 'region_14', 'region_15', 'region_16', 'region_17',\n",
       "       'region_18', 'region_19', 'region_2', 'region_20', 'region_21',\n",
       "       'region_22', 'region_23', 'region_24', 'region_25', 'region_26',\n",
       "       'region_27', 'region_28', 'region_29', 'region_3', 'region_30',\n",
       "       'region_31', 'region_32', 'region_33', 'region_34', 'region_4',\n",
       "       'region_5', 'region_6', 'region_7', 'region_8', 'region_9',\n",
       "       'education_Bachelor's', 'education_Master's & above', 'gender_m',\n",
       "       'recr_source_referred', 'recr_source_sourcing'],\n",
       "      dtype='object')"
      ]
     },
     "execution_count": 40,
     "metadata": {},
     "output_type": "execute_result"
    }
   ],
   "source": [
    "# заменим все region_region_X на удобочитаемый вид\n",
    "func = np.vectorize(lambda x: x[7:] if x.startswith('region') else x)\n",
    "X_train.columns = func(X_train.columns.values)\n",
    "X_train.columns"
   ]
  },
  {
   "cell_type": "code",
   "execution_count": 41,
   "metadata": {
    "ExecuteTime": {
     "end_time": "2020-09-20T20:17:04.456501Z",
     "start_time": "2020-09-20T20:17:04.408507Z"
    }
   },
   "outputs": [
    {
     "name": "stdout",
     "output_type": "stream",
     "text": [
      "Shape of X_test: (23490, 12)\n"
     ]
    },
    {
     "data": {
      "text/plain": [
       "Index(['training_num', 'age', 'prev_year_rating', 'service', 'kpi_80',\n",
       "       'awards', 'avg_training_score', 'department_Finance', 'department_HR',\n",
       "       'department_Legal', 'department_Operations', 'department_Procurement',\n",
       "       'department_R&D', 'department_Sales & Marketing',\n",
       "       'department_Technology', 'region_10', 'region_11', 'region_12',\n",
       "       'region_13', 'region_14', 'region_15', 'region_16', 'region_17',\n",
       "       'region_18', 'region_19', 'region_2', 'region_20', 'region_21',\n",
       "       'region_22', 'region_23', 'region_24', 'region_25', 'region_26',\n",
       "       'region_27', 'region_28', 'region_29', 'region_3', 'region_30',\n",
       "       'region_31', 'region_32', 'region_33', 'region_34', 'region_4',\n",
       "       'region_5', 'region_6', 'region_7', 'region_8', 'region_9',\n",
       "       'education_Bachelor's', 'education_Master's & above', 'gender_m',\n",
       "       'recr_source_referred', 'recr_source_sourcing'],\n",
       "      dtype='object')"
      ]
     },
     "execution_count": 41,
     "metadata": {},
     "output_type": "execute_result"
    }
   ],
   "source": [
    "# тоже самое для тестового датасета\n",
    "X_test = test_raw\n",
    "print(\"Shape of X_test:\", X_test.shape)\n",
    "X_test = pd.get_dummies(X_test)\n",
    "X_test = X_test.drop(columns=['department_Analytics', 'region_region_1',\n",
    "                                'education_Below Secondary', 'gender_f', 'recr_source_other'])\n",
    "# заменим все region_region_X на удобочитаемый вид\n",
    "func = np.vectorize(lambda x: x[7:] if x.startswith('region') else x)\n",
    "X_test.columns = func(X_test.columns.values)\n",
    "X_test.columns"
   ]
  },
  {
   "cell_type": "markdown",
   "metadata": {},
   "source": [
    "### Training a model"
   ]
  },
  {
   "cell_type": "markdown",
   "metadata": {},
   "source": [
    "Так как в тестовых данных отсутствуют значения по целевому признаку, то будем использовать тренировочные данные при оценке точности алгоритма различными метриками. Сначала разделим датасет на тренировочный и валидационный, затем возьмем список из разного количества соседей для алгоритма k-nn и посмотрим как меняется ошибка на тренировочных данных и валидационных в зависимсоти от этого параметра. "
   ]
  },
  {
   "cell_type": "code",
   "execution_count": 43,
   "metadata": {
    "ExecuteTime": {
     "end_time": "2020-09-20T20:17:04.511493Z",
     "start_time": "2020-09-20T20:17:04.485501Z"
    }
   },
   "outputs": [],
   "source": [
    "X_train, X_val, y_train, y_val = train_test_split(X_train, y_train, random_state=0)"
   ]
  },
  {
   "cell_type": "code",
   "execution_count": null,
   "metadata": {
    "ExecuteTime": {
     "end_time": "2020-09-20T21:38:41.338360Z",
     "start_time": "2020-09-20T21:15:38.794717Z"
    }
   },
   "outputs": [],
   "source": [
    "n_neibhors = [1,3,5,10,15,20,30,50,70,100,130,150,200]\n",
    "train_erros=[]\n",
    "val_errors = []\n",
    "for k in n_neibhors:\n",
    "    knn = neighbors.KNeighborsClassifier(k, weights='uniform')\n",
    "    knn.fit(X_train, y_train)\n",
    "    val_errors.append(1 - knn.score(X_val, y_val))\n",
    "    train_erros.append(1 - knn.score(X_train, y_train))"
   ]
  },
  {
   "cell_type": "markdown",
   "metadata": {},
   "source": [
    "dummy_model - это \"глупый\" классификатор, который всегда предсказывает класс 0, то есть то, что сотрудника не повысят. У нас этот класс сильно преобладает над другим, поэтому ошибка будет достаточно низкая."
   ]
  },
  {
   "cell_type": "code",
   "execution_count": 113,
   "metadata": {
    "ExecuteTime": {
     "end_time": "2020-09-20T21:52:49.688261Z",
     "start_time": "2020-09-20T21:52:49.324264Z"
    }
   },
   "outputs": [
    {
     "data": {
      "image/png": "[encoded data removed]",
      "text/plain": [
       "<Figure size 720x720 with 1 Axes>"
      ]
     },
     "metadata": {},
     "output_type": "display_data"
    }
   ],
   "source": [
    "dummy_model = np.mean(y_val != 0)\n",
    "plt.figure(figsize=(10,10))\n",
    "plt.axhline(dummy_model, color='red', label='dummy model')\n",
    "plt.plot(n_neibhors, train_erros, label='train error')\n",
    "plt.plot(n_neibhors, val_errors, label='val error')\n",
    "plt.title('Зависимость изменения ошибки от количества соседей', fontsize=20)\n",
    "plt.xlabel('количество соседей', fontsize=14)\n",
    "plt.ylabel('ошибка', fontsize=14)\n",
    "sns.despine()\n",
    "plt.grid(True)\n",
    "plt.legend();"
   ]
  },
  {
   "cell_type": "markdown",
   "metadata": {},
   "source": [
    "Так как в данных очень ярко выраженный дисбаланс классов, то обычная метрика точности не подходит для объективной оценки. Исходя из графика, выберем лучшее значение количества соседей и вычислим метрики подходящие при оценивании модели с дисбалансом классов."
   ]
  },
  {
   "cell_type": "code",
   "execution_count": 115,
   "metadata": {
    "ExecuteTime": {
     "end_time": "2020-09-20T21:55:12.253004Z",
     "start_time": "2020-09-20T21:54:48.683010Z"
    }
   },
   "outputs": [
    {
     "name": "stdout",
     "output_type": "stream",
     "text": [
      "Accuracy: 0.92\n",
      "Precision: 0.89\n",
      "Recall: 0.03\n",
      "F1: 0.05\n"
     ]
    }
   ],
   "source": [
    "from sklearn.metrics import accuracy_score, precision_score, recall_score, f1_score\n",
    "knn = neighbors.KNeighborsClassifier(20, weights='uniform')\n",
    "knn.fit(X_train, y_train)\n",
    "predicted = knn.predict(X_val)\n",
    "# Accuracy = TP + TN / (TP + TN + FP + FN)\n",
    "# Precision = TP / (TP + FP)\n",
    "# Recall = TP / (TP + FN)\n",
    "# F1 = 2 * Precision * Recall / (Precision + Recall) \n",
    "print('Accuracy: {:.2f}'.format(accuracy_score(y_val, predicted)))\n",
    "print('Precision: {:.2f}'.format(precision_score(y_val, predicted)))\n",
    "print('Recall: {:.2f}'.format(recall_score(y_val, predicted)))\n",
    "print('F1: {:.2f}'.format(f1_score(y_val, predicted)))"
   ]
  },
  {
   "cell_type": "markdown",
   "metadata": {},
   "source": [
    "Мы видим, что хоть точность и достаточно высокая, но значение "
   ]
  },
  {
   "cell_type": "markdown",
   "metadata": {},
   "source": [
    "## Conclusion"
   ]
  },
  {
   "cell_type": "code",
   "execution_count": null,
   "metadata": {},
   "outputs": [],
   "source": []
  }
 ],
 "metadata": {
  "colab": {
   "authorship_tag": "ABX9TyMZnIAyXR3Nw6he32q8jIZG",
   "name": "Untitled2.ipynb",
   "provenance": []
  },
  "kernelspec": {
   "display_name": "Python 3",
   "language": "python",
   "name": "python3"
  },
  "language_info": {
   "codemirror_mode": {
    "name": "ipython",
    "version": 3
   },
   "file_extension": ".py",
   "mimetype": "text/x-python",
   "name": "python",
   "nbconvert_exporter": "python",
   "pygments_lexer": "ipython3",
   "version": "3.7.6"
  },
  "latex_envs": {
   "LaTeX_envs_menu_present": true,
   "autoclose": false,
   "autocomplete": true,
   "bibliofile": "biblio.bib",
   "cite_by": "apalike",
   "current_citInitial": 1,
   "eqLabelWithNumbers": true,
   "eqNumInitial": 1,
   "hotkeys": {
    "equation": "Ctrl-E",
    "itemize": "Ctrl-I"
   },
   "labels_anchors": false,
   "latex_user_defs": false,
   "report_style_numbering": false,
   "user_envs_cfg": false
  }
 },
 "nbformat": 4,
 "nbformat_minor": 1
}
